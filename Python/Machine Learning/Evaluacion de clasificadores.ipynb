{
 "cells": [
  {
   "cell_type": "code",
   "execution_count": 1,
   "id": "3e0f9cb7-afed-4163-ae15-66658f0a73e0",
   "metadata": {},
   "outputs": [],
   "source": [
    "import pandas as pd\n",
    "import numpy as np\n",
    "from scipy.stats import norm, multivariate_normal\n",
    "from sklearn.metrics import classification_report, confusion_matrix\n",
    "from sklearn.tree import DecisionTreeClassifier\n",
    "from sklearn.model_selection import train_test_split, StratifiedKFold\n",
    "import matplotlib.pyplot as plt\n",
    "from sklearn.preprocessing import StandardScaler"
   ]
  },
  {
   "cell_type": "code",
   "execution_count": 2,
   "id": "8ad5ef3f-f7e8-435f-9c6d-a7b52dd84e7d",
   "metadata": {},
   "outputs": [
    {
     "name": "stdout",
     "output_type": "stream",
     "text": [
      "[97 80 90]\n"
     ]
    }
   ],
   "source": [
    "# Creamos los objetos dada una media (mean) y una covarianza (cov)\n",
    "N1 = multivariate_normal(mean=[1.5,1.5], cov=0.2)\n",
    "N2 = multivariate_normal(mean=[0,0], cov=0.2)\n",
    "N3 = multivariate_normal(mean=[1.5,0], cov=0.2)\n",
    "\n",
    "# Muestreamos una cantidad de puntos aleatorios por gaussiana. Entre 50 y 100 puntos.\n",
    "n = np.random.randint(50,101, size=3)\n",
    "d1 = N1.rvs(size=n[0])\n",
    "d2 = N2.rvs(size=n[1])\n",
    "d3 = N3.rvs(size=n[2])\n",
    "print(n)"
   ]
  },
  {
   "cell_type": "code",
   "execution_count": 3,
   "id": "97c14c41-1fcc-437b-93a9-9f4cf1f0bba4",
   "metadata": {},
   "outputs": [],
   "source": [
    "data = np.vstack([d1,d2,d3])\n",
    "label = np.hstack([0*np.ones(d1.shape[0]),1*np.ones(d2.shape[0]),2*np.ones(d3.shape[0])])"
   ]
  },
  {
   "cell_type": "code",
   "execution_count": 4,
   "id": "9ec3771d-017a-4ce8-8260-ab97ff5e6206",
   "metadata": {},
   "outputs": [],
   "source": [
    "X_train, X_test, y_train, y_test = train_test_split(data, label, stratify=label, test_size=0.2)"
   ]
  },
  {
   "cell_type": "code",
   "execution_count": 5,
   "id": "27dcfae4-6f74-4d53-bf2c-3ac6e8fca11e",
   "metadata": {},
   "outputs": [],
   "source": [
    "# Creamos el clasificador\n",
    "tree = DecisionTreeClassifier(max_depth=2)\n",
    "# Lo ajustamos a los datos\n",
    "tree.fit(X_train, y_train)\n",
    "# Obtenemos una predicción para los datos de test.\n",
    "y_pred = tree.predict(X_test)"
   ]
  },
  {
   "cell_type": "code",
   "execution_count": 6,
   "id": "6cebda45-1dd6-41d8-b723-515bfff3b6cf",
   "metadata": {},
   "outputs": [
    {
     "name": "stdout",
     "output_type": "stream",
     "text": [
      "              precision    recall  f1-score   support\n",
      "\n",
      "         0.0       1.00      0.85      0.92        20\n",
      "         1.0       0.94      0.94      0.94        16\n",
      "         2.0       0.81      0.94      0.87        18\n",
      "\n",
      "    accuracy                           0.91        54\n",
      "   macro avg       0.92      0.91      0.91        54\n",
      "weighted avg       0.92      0.91      0.91        54\n",
      "\n"
     ]
    }
   ],
   "source": [
    "print(classification_report(y_test, y_pred))"
   ]
  },
  {
   "cell_type": "code",
   "execution_count": 7,
   "id": "3a0ebf44-a939-4ce2-ad02-694ec10e272c",
   "metadata": {},
   "outputs": [],
   "source": [
    "## Validación Cruzada definimos la cantidad de folds=3\n",
    "kfold = StratifiedKFold(n_splits=3, shuffle=True)\n",
    "\n",
    "# Creamos el contenedor de nuestra predicción\n",
    "y_pred = np.zeros(label.shape[0])\n",
    "# En el for se itera n_splits veces.\n",
    "for train_index, test_index in kfold.split(data, label):\n",
    "    X_train, X_test = data[train_index], data[test_index]\n",
    "    y_train, y_test = label[train_index], label[test_index]\n",
    "    \n",
    "    # Creamos el clasificador\n",
    "    tree = DecisionTreeClassifier(max_depth=2)\n",
    "    # Lo ajustamos a los datos\n",
    "    tree.fit(X_train, y_train)\n",
    "    # Obtenemos una predicción para los datos de test dados por test_index\n",
    "    y_pred[test_index] = tree.predict(X_test)"
   ]
  },
  {
   "cell_type": "code",
   "execution_count": 8,
   "id": "b78689ca-4df3-438b-9992-6652058fdfb0",
   "metadata": {},
   "outputs": [
    {
     "data": {
      "text/plain": [
       "array([[89,  0,  8],\n",
       "       [ 2, 75,  3],\n",
       "       [ 6,  2, 82]])"
      ]
     },
     "execution_count": 8,
     "metadata": {},
     "output_type": "execute_result"
    }
   ],
   "source": [
    "# Mostramos la matriz de confusión\n",
    "confusion_matrix(label, y_pred)"
   ]
  },
  {
   "cell_type": "code",
   "execution_count": 9,
   "id": "22f53476-ee93-4029-863b-01ed1e2b0c25",
   "metadata": {},
   "outputs": [
    {
     "data": {
      "image/png": "[encoded data removed]",
      "text/plain": [
       "<Figure size 480x480 with 2 Axes>"
      ]
     },
     "metadata": {},
     "output_type": "display_data"
    }
   ],
   "source": [
    "# Ahora de forma gráfica\n",
    "def plot_confusion_matrix(df_confusion, title='Matriz de confusión', cmap=plt.cm.Greens):\n",
    "    \n",
    "    plt.matshow(df_confusion, cmap=cmap) # imshow\n",
    "    plt.title(title)\n",
    "    plt.colorbar()\n",
    "    plt.ylabel('Clase')\n",
    "    plt.xlabel('Predicción')\n",
    "\n",
    "plot_confusion_matrix(confusion_matrix(label, y_pred))"
   ]
  },
  {
   "cell_type": "code",
   "execution_count": null,
   "id": "383f1c34-ce47-4219-847b-fb8e213d1688",
   "metadata": {},
   "outputs": [],
   "source": []
  }
 ],
 "metadata": {
  "kernelspec": {
   "display_name": "Python 3 (ipykernel)",
   "language": "python",
   "name": "python3"
  },
  "language_info": {
   "codemirror_mode": {
    "name": "ipython",
    "version": 3
   },
   "file_extension": ".py",
   "mimetype": "text/x-python",
   "name": "python",
   "nbconvert_exporter": "python",
   "pygments_lexer": "ipython3",
   "version": "3.10.12"
  }
 },
 "nbformat": 4,
 "nbformat_minor": 5
}
